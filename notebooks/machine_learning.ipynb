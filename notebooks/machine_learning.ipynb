{
 "cells": [
  {
   "cell_type": "code",
   "execution_count": 9,
   "id": "9c5da0d3",
   "metadata": {},
   "outputs": [],
   "source": [
    "import pandas as pd\n",
    "import sqlite3\n",
    "import seaborn as sns\n",
    "import matplotlib.pyplot as plt\n",
    "from sklearn.model_selection import train_test_split\n",
    "from sklearn.tree import DecisionTreeClassifier\n",
    "from sklearn.metrics import accuracy_score, confusion_matrix, ConfusionMatrixDisplay\n",
    "from sklearn.preprocessing import LabelEncoder\n",
    "import joblib"
   ]
  },
  {
   "cell_type": "code",
   "execution_count": 2,
   "id": "84ee0946",
   "metadata": {},
   "outputs": [
    {
     "name": "stdout",
     "output_type": "stream",
     "text": [
      "<class 'pandas.core.frame.DataFrame'>\n",
      "RangeIndex: 1500 entries, 0 to 1499\n",
      "Data columns (total 3 columns):\n",
      " #   Column   Non-Null Count  Dtype  \n",
      "---  ------   --------------  -----  \n",
      " 0   tipo     1500 non-null   object \n",
      " 1   medicao  1500 non-null   float64\n",
      " 2   status   1500 non-null   object \n",
      "dtypes: float64(1), object(2)\n",
      "memory usage: 35.3+ KB\n",
      "None\n"
     ]
    },
    {
     "data": {
      "text/html": [
       "<div>\n",
       "<style scoped>\n",
       "    .dataframe tbody tr th:only-of-type {\n",
       "        vertical-align: middle;\n",
       "    }\n",
       "\n",
       "    .dataframe tbody tr th {\n",
       "        vertical-align: top;\n",
       "    }\n",
       "\n",
       "    .dataframe thead th {\n",
       "        text-align: right;\n",
       "    }\n",
       "</style>\n",
       "<table border=\"1\" class=\"dataframe\">\n",
       "  <thead>\n",
       "    <tr style=\"text-align: right;\">\n",
       "      <th></th>\n",
       "      <th>tipo</th>\n",
       "      <th>medicao</th>\n",
       "      <th>status</th>\n",
       "    </tr>\n",
       "  </thead>\n",
       "  <tbody>\n",
       "    <tr>\n",
       "      <th>0</th>\n",
       "      <td>nivel</td>\n",
       "      <td>25.00</td>\n",
       "      <td>NORMAL</td>\n",
       "    </tr>\n",
       "    <tr>\n",
       "      <th>1</th>\n",
       "      <td>nivel</td>\n",
       "      <td>1.85</td>\n",
       "      <td>FALHA_CRITICA</td>\n",
       "    </tr>\n",
       "    <tr>\n",
       "      <th>2</th>\n",
       "      <td>nivel</td>\n",
       "      <td>1.85</td>\n",
       "      <td>FALHA_CRITICA</td>\n",
       "    </tr>\n",
       "    <tr>\n",
       "      <th>3</th>\n",
       "      <td>nivel</td>\n",
       "      <td>1.85</td>\n",
       "      <td>FALHA_CRITICA</td>\n",
       "    </tr>\n",
       "    <tr>\n",
       "      <th>4</th>\n",
       "      <td>nivel</td>\n",
       "      <td>1.85</td>\n",
       "      <td>FALHA_CRITICA</td>\n",
       "    </tr>\n",
       "  </tbody>\n",
       "</table>\n",
       "</div>"
      ],
      "text/plain": [
       "    tipo  medicao         status\n",
       "0  nivel    25.00         NORMAL\n",
       "1  nivel     1.85  FALHA_CRITICA\n",
       "2  nivel     1.85  FALHA_CRITICA\n",
       "3  nivel     1.85  FALHA_CRITICA\n",
       "4  nivel     1.85  FALHA_CRITICA"
      ]
     },
     "execution_count": 2,
     "metadata": {},
     "output_type": "execute_result"
    }
   ],
   "source": [
    "# Conecta ao banco de dados SQLite\n",
    "conn = sqlite3.connect('../data/hermes_db.sqlite')\n",
    "\n",
    "# Query para unir os dados de todas as medições com os tipos de sensores\n",
    "query = \"\"\"\n",
    "SELECT 'nivel' as tipo, nivel_cm as medicao, status FROM MEDICAO_NIVEL\n",
    "UNION ALL\n",
    "SELECT 'temperatura' as tipo, medicao, status FROM MEDICAO_TEMPERATURA\n",
    "UNION ALL\n",
    "SELECT 'vibracao' as tipo, aceleracao_total as medicao, status FROM MEDICAO_VIBRACAO;\n",
    "\"\"\"\n",
    "\n",
    "# Carrega os dados em um DataFrame do Pandas\n",
    "df = pd.read_sql_query(query, conn)\n",
    "\n",
    "# Fecha a conexão\n",
    "conn.close()\n",
    "\n",
    "# Exibe as primeiras linhas e informações do DataFrame\n",
    "print(df.info())\n",
    "df.head()"
   ]
  },
  {
   "cell_type": "code",
   "execution_count": 3,
   "id": "e47cb6de",
   "metadata": {},
   "outputs": [
    {
     "name": "stdout",
     "output_type": "stream",
     "text": [
      "Mapeamento das classes de status:\n",
      "0: ALERTA_Pre_falha\n",
      "1: FALHA_CRITICA\n",
      "2: NORMAL\n"
     ]
    },
    {
     "data": {
      "text/html": [
       "<div>\n",
       "<style scoped>\n",
       "    .dataframe tbody tr th:only-of-type {\n",
       "        vertical-align: middle;\n",
       "    }\n",
       "\n",
       "    .dataframe tbody tr th {\n",
       "        vertical-align: top;\n",
       "    }\n",
       "\n",
       "    .dataframe thead th {\n",
       "        text-align: right;\n",
       "    }\n",
       "</style>\n",
       "<table border=\"1\" class=\"dataframe\">\n",
       "  <thead>\n",
       "    <tr style=\"text-align: right;\">\n",
       "      <th></th>\n",
       "      <th>medicao</th>\n",
       "      <th>status</th>\n",
       "      <th>tipo_nivel</th>\n",
       "      <th>tipo_temperatura</th>\n",
       "      <th>tipo_vibracao</th>\n",
       "      <th>status_encoded</th>\n",
       "    </tr>\n",
       "  </thead>\n",
       "  <tbody>\n",
       "    <tr>\n",
       "      <th>0</th>\n",
       "      <td>25.00</td>\n",
       "      <td>NORMAL</td>\n",
       "      <td>True</td>\n",
       "      <td>False</td>\n",
       "      <td>False</td>\n",
       "      <td>2</td>\n",
       "    </tr>\n",
       "    <tr>\n",
       "      <th>1</th>\n",
       "      <td>1.85</td>\n",
       "      <td>FALHA_CRITICA</td>\n",
       "      <td>True</td>\n",
       "      <td>False</td>\n",
       "      <td>False</td>\n",
       "      <td>1</td>\n",
       "    </tr>\n",
       "    <tr>\n",
       "      <th>2</th>\n",
       "      <td>1.85</td>\n",
       "      <td>FALHA_CRITICA</td>\n",
       "      <td>True</td>\n",
       "      <td>False</td>\n",
       "      <td>False</td>\n",
       "      <td>1</td>\n",
       "    </tr>\n",
       "    <tr>\n",
       "      <th>3</th>\n",
       "      <td>1.85</td>\n",
       "      <td>FALHA_CRITICA</td>\n",
       "      <td>True</td>\n",
       "      <td>False</td>\n",
       "      <td>False</td>\n",
       "      <td>1</td>\n",
       "    </tr>\n",
       "    <tr>\n",
       "      <th>4</th>\n",
       "      <td>1.85</td>\n",
       "      <td>FALHA_CRITICA</td>\n",
       "      <td>True</td>\n",
       "      <td>False</td>\n",
       "      <td>False</td>\n",
       "      <td>1</td>\n",
       "    </tr>\n",
       "  </tbody>\n",
       "</table>\n",
       "</div>"
      ],
      "text/plain": [
       "   medicao         status  tipo_nivel  tipo_temperatura  tipo_vibracao  \\\n",
       "0    25.00         NORMAL        True             False          False   \n",
       "1     1.85  FALHA_CRITICA        True             False          False   \n",
       "2     1.85  FALHA_CRITICA        True             False          False   \n",
       "3     1.85  FALHA_CRITICA        True             False          False   \n",
       "4     1.85  FALHA_CRITICA        True             False          False   \n",
       "\n",
       "   status_encoded  \n",
       "0               2  \n",
       "1               1  \n",
       "2               1  \n",
       "3               1  \n",
       "4               1  "
      ]
     },
     "execution_count": 3,
     "metadata": {},
     "output_type": "execute_result"
    }
   ],
   "source": [
    "# O Machine Learning funciona com números. Precisamos transformar as colunas de texto.\n",
    "\n",
    "# 1. Converter a coluna 'tipo' em colunas numéricas (One-Hot Encoding)\n",
    "df_encoded = pd.get_dummies(df, columns=['tipo'], drop_first=False)\n",
    "\n",
    "# 2. Converter a coluna alvo 'status' em números (Label Encoding)\n",
    "label_encoder = LabelEncoder()\n",
    "df_encoded['status_encoded'] = label_encoder.fit_transform(df_encoded['status'])\n",
    "\n",
    "# Exibe o mapeamento das classes\n",
    "print(\"Mapeamento das classes de status:\")\n",
    "for index, class_name in enumerate(label_encoder.classes_):\n",
    "    print(f\"{index}: {class_name}\")\n",
    "\n",
    "df_encoded.head()"
   ]
  },
  {
   "cell_type": "code",
   "execution_count": 4,
   "id": "9b3461ec",
   "metadata": {},
   "outputs": [],
   "source": [
    "# Features (X) são as colunas que usamos para prever\n",
    "X = df_encoded[['medicao', 'tipo_temperatura', 'tipo_vibracao', 'tipo_nivel']]\n",
    "\n",
    "# Alvo (y) é a coluna que queremos prever\n",
    "y = df_encoded['status_encoded']"
   ]
  },
  {
   "cell_type": "code",
   "execution_count": 5,
   "id": "47c8b971",
   "metadata": {},
   "outputs": [
    {
     "name": "stdout",
     "output_type": "stream",
     "text": [
      "Tamanho do conjunto de treino: 1050 amostras\n",
      "Tamanho do conjunto de teste: 450 amostras\n"
     ]
    }
   ],
   "source": [
    "# Dividimos os dados para treinar o modelo em uma parte e testá-lo em outra,\n",
    "# garantindo uma avaliação justa de sua performance.\n",
    "X_train, X_test, y_train, y_test = train_test_split(X, y, test_size=0.3, random_state=42, stratify=y)\n",
    "\n",
    "print(f\"Tamanho do conjunto de treino: {X_train.shape[0]} amostras\")\n",
    "print(f\"Tamanho do conjunto de teste: {X_test.shape[0]} amostras\")"
   ]
  },
  {
   "cell_type": "code",
   "execution_count": 6,
   "id": "f7531131",
   "metadata": {},
   "outputs": [
    {
     "name": "stdout",
     "output_type": "stream",
     "text": [
      "Modelo de Árvore de Decisão treinado com sucesso!\n"
     ]
    }
   ],
   "source": [
    "# Escolhemos uma Árvore de Decisão por ser um modelo simples e fácil de interpretar.\n",
    "# O objetivo é criar um conjunto de regras para classificar o status.\n",
    "model = DecisionTreeClassifier(random_state=50)\n",
    "\n",
    "# Treina o modelo com os dados de treino\n",
    "model.fit(X_train, y_train)\n",
    "\n",
    "print(\"Modelo de Árvore de Decisão treinado com sucesso!\")"
   ]
  },
  {
   "cell_type": "code",
   "execution_count": 7,
   "id": "00781f58",
   "metadata": {},
   "outputs": [
    {
     "name": "stdout",
     "output_type": "stream",
     "text": [
      "Acurácia do modelo: 100.00%\n"
     ]
    }
   ],
   "source": [
    "# Faz previsões nos dados de teste, que o modelo nunca viu antes\n",
    "y_pred = model.predict(X_test)\n",
    "\n",
    "# Calcula a acurácia: a porcentagem de previsões corretas\n",
    "accuracy = accuracy_score(y_test, y_pred)\n",
    "print(f\"Acurácia do modelo: {accuracy * 100:.2f}%\")\n",
    "\n",
    "# A acurácia alta é esperada, pois os dados foram gerados com regras claras.\n",
    "# Em um cenário real, este valor seria mais desafiador."
   ]
  },
  {
   "cell_type": "code",
   "execution_count": 8,
   "id": "22dd08bc",
   "metadata": {},
   "outputs": [
    {
     "data": {
      "image/png": "[encoded data removed]",
      "text/plain": [
       "<Figure size 800x600 with 2 Axes>"
      ]
     },
     "metadata": {},
     "output_type": "display_data"
    }
   ],
   "source": [
    "# A Matriz de Confusão é a melhor forma de visualizar a performance de um modelo de classificação.\n",
    "# Ela mostra exatamente onde o modelo acertou e onde errou.\n",
    "\n",
    "cm = confusion_matrix(y_test, y_pred)\n",
    "class_names = label_encoder.classes_\n",
    "\n",
    "# Plotar a matriz de confusão\n",
    "disp = ConfusionMatrixDisplay(confusion_matrix=cm, display_labels=class_names)\n",
    "\n",
    "fig, ax = plt.subplots(figsize=(8, 6))\n",
    "disp.plot(ax=ax, cmap='Blues')\n",
    "plt.title('Matriz de Confusão')\n",
    "plt.show()\n",
    "\n",
    "# Justificativa do Gráfico:\n",
    "# A Matriz de Confusão foi escolhida por ser a ferramenta padrão para avaliar modelos de classificação.\n",
    "# A diagonal principal (do canto superior esquerdo ao inferior direito) mostra o número de previsões corretas para cada classe.\n",
    "# Os valores fora da diagonal indicam os erros (ex: quando o modelo previu 'NORMAL' mas o valor real era 'ALERTA').\n",
    "# Este gráfico nos dá uma visão detalhada e precisa da performance do modelo para cada status,\n",
    "# o que é muito mais informativo que apenas a acurácia geral."
   ]
  },
  {
   "cell_type": "code",
   "execution_count": 11,
   "id": "f69e8fdd-976f-4276-b730-d618b32598a6",
   "metadata": {},
   "outputs": [
    {
     "data": {
      "text/plain": [
       "['./decision_tree_model.pkl']"
      ]
     },
     "execution_count": 11,
     "metadata": {},
     "output_type": "execute_result"
    }
   ],
   "source": [
    "## Usaremos nesse projeto o modelo de Decision Tree, pois ele apresentou a melhor acurácia.\n",
    "# Salvar o modelo Decision Tree\n",
    "joblib.dump(model, './decision_tree_model.pkl')"
   ]
  }
 ],
 "metadata": {
  "kernelspec": {
   "display_name": "fiap_fase3",
   "language": "python",
   "name": "fiap_fase3"
  },
  "language_info": {
   "codemirror_mode": {
    "name": "ipython",
    "version": 3
   },
   "file_extension": ".py",
   "mimetype": "text/x-python",
   "name": "python",
   "nbconvert_exporter": "python",
   "pygments_lexer": "ipython3",
   "version": "3.13.2"
  }
 },
 "nbformat": 4,
 "nbformat_minor": 5
}
